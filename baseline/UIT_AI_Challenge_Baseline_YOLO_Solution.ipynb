{
  "nbformat": 4,
  "nbformat_minor": 0,
  "metadata": {
    "accelerator": "GPU",
    "colab": {
      "name": "UIT AI Challenge Baseline YOLO Solution.ipynb",
      "provenance": [],
      "collapsed_sections": [
        "CeSiuLrXoAjc",
        "3_KlOWCzaSm_"
      ],
      "toc_visible": true
    },
    "kernelspec": {
      "display_name": "Python 3",
      "name": "python3"
    }
  },
  "cells": [
    {
      "cell_type": "markdown",
      "metadata": {
        "id": "4ZehodxckOmy"
      },
      "source": [
        "# Chuẩn bị và cấu hình source"
      ]
    },
    {
      "cell_type": "markdown",
      "metadata": {
        "id": "wHBQcQzjD6HJ"
      },
      "source": [
        "## Kiểm tra GPU"
      ]
    },
    {
      "cell_type": "code",
      "metadata": {
        "id": "bwp6NIrsZZFP"
      },
      "source": [
        "!nvidia-smi"
      ],
      "execution_count": null,
      "outputs": []
    },
    {
      "cell_type": "markdown",
      "metadata": {
        "id": "t7utW4in4azV"
      },
      "source": [
        "## Clone source code từ github và build\n",
        "\n"
      ]
    },
    {
      "cell_type": "markdown",
      "metadata": {
        "id": "5HYES3dRTK7l"
      },
      "source": [
        "Clone source darknet của AlexeyAB từ github về. <br>\r\n",
        "Đây là source code tiêu chuẩn để bắt đầu với YOLOv3."
      ]
    },
    {
      "cell_type": "code",
      "metadata": {
        "id": "e03U7Zi-qMr2"
      },
      "source": [
        "!git clone https://github.com/AlexeyAB/darknet --depth=1\r\n",
        "%cd darknet"
      ],
      "execution_count": null,
      "outputs": []
    },
    {
      "cell_type": "markdown",
      "metadata": {
        "id": "dBi4MYgVUoym"
      },
      "source": [
        "Cần tinh chỉnh các tham số trong file config để build darknet dành cho GPU."
      ]
    },
    {
      "cell_type": "code",
      "metadata": {
        "id": "5H-Taj06Tw1c"
      },
      "source": [
        "!sed -i 's/OPENCV=0/OPENCV=1/' Makefile\n",
        "!sed -i 's/GPU=0/GPU=1/' Makefile\n",
        "!sed -i 's/CUDNN=0/CUDNN=1/' Makefile\n",
        "!sed -i 's/LIBSO=0/LIBSO=1/' Makefile\n",
        "!sed -i \"s/\\$(CPP)/\\$(CPP) -w/\" Makefile\n",
        "!sed -i \"s/\\$(CC)/\\$(CC) -w/\" Makefile\n",
        "!sed -i \"s/\\$(NVCC)/\\$(NVCC) -w/\" Makefile\n",
        "!make --silent"
      ],
      "execution_count": null,
      "outputs": []
    },
    {
      "cell_type": "markdown",
      "metadata": {
        "id": "gAOLtA_qI9vF"
      },
      "source": [
        "## Tùy chỉnh file config cho YOLOv3"
      ]
    },
    {
      "cell_type": "markdown",
      "metadata": {
        "id": "6x8El5x7VAcq"
      },
      "source": [
        "Tạo một bản sao của file config gốc"
      ]
    },
    {
      "cell_type": "code",
      "metadata": {
        "id": "s-RpscgU853t"
      },
      "source": [
        "!cp cfg/yolov3.cfg cfg/yolov3_training.cfg"
      ],
      "execution_count": null,
      "outputs": []
    },
    {
      "cell_type": "markdown",
      "metadata": {
        "id": "yikSTr96P_UB"
      },
      "source": [
        "\r\n",
        "\r\n",
        "Trong file cfg/yolov3_training.cfg cần quan tâm các thông số:\r\n",
        "\r\n",
        "*   batch = 64\r\n",
        "<font color='#339B33'>\r\n",
        "    # Batch size = batch/subdivision = 4\r\n",
        "</font>\r\n",
        "*   subdivisions = 16\r\n",
        "<font color='#339B33'>\r\n",
        "    # Chu kì để xuất loss\r\n",
        "</font>\r\n",
        "*   max_batches = 4000\r\n",
        "<font color='#339B33'>\r\n",
        "    # max_batches nên để bằng (số class) * 2000, tuy nhiên để demo thì chỉ cần để số batches nhỏ\r\n",
        "</font>\r\n",
        "*   steps = 3200, 3600 \r\n",
        "<font color='#339B33'>\r\n",
        "    # steps = 0.8 * max_batches, 0.9 * max_batches\r\n",
        "</font>\r\n",
        "*   width = 416, height = 416\r\n",
        "<font color='#339B33'>\r\n",
        "    # Kích thước đầu vào của mạng, là một số chia hết cho 32.\r\n",
        "</font>\r\n",
        "*   Ngoài ra còn cần sửa lại số classes và số filters theo công thức filters=(classes+5) * 3\r\n",
        "\r\n",
        "Trong folder data:\r\n",
        "*   Tạo obj.names trong đó mỗi dòng chứa tên của 1 class\r\n",
        "*   Tạo obj.data Có nội dung như sau:\r\n",
        "\r\n",
        "classes = 6 \r\n",
        "<font color='#339B33'>\r\n",
        "    \\# Số lượng classes trong bài toán detection.\r\n",
        "</font> <br>\r\n",
        "train  = /content/train.txt \r\n",
        "<font color='#339B33'>\r\n",
        "    \\# Đường dẫn đến tệp chứa danh sách các ảnh train.\r\n",
        "</font> <br>\r\n",
        "valid  = /content/valid.txt \r\n",
        "<font color='#339B33'>\r\n",
        "    \\# Đường dẫn đến tệp chứa danh sách các ảnh validation.\r\n",
        "</font> <br>\r\n",
        "names = data/obj.names \r\n",
        "<font color='#339B33'>\r\n",
        "    \\# Đường dẫn đến tệp chứa danh sách tên của các classes.\r\n",
        "</font> <br>\r\n",
        "backup = backup/\r\n",
        "<font color='#339B33'>\r\n",
        "    \\# Đường dẫn chứa các bộ trọng số sau khi train.\r\n",
        "</font> <br>"
      ]
    },
    {
      "cell_type": "code",
      "metadata": {
        "id": "RCEGHaNXuVHv"
      },
      "source": [
        "!sed -i -zE \\\r\n",
        "-e 's/(\\nbatch)[^\\n]+\\n/\\1=64\\n/' \\\r\n",
        "-e 's/(\\nsubdivisions)[^\\n]+\\n/\\1=16\\n/' \\\r\n",
        "-e 's/(\\nmax_batches)[^\\n]+\\n/\\1=4000\\n/' \\\r\n",
        "-e 's/(\\nsteps)[^\\n]+\\n/\\1=3200,3600\\n/' \\\r\n",
        "-e 's/(\\nwidth)[^\\n]+\\n/\\1=416\\n/' \\\r\n",
        "-e 's/(\\nheight)[^\\n]+\\n/\\1=416\\n/' \\\r\n",
        "-e 's/(\\nfilters)[^\\n]+(\\n[^\\n]+\\n\\n\\n[^\\n]+\\n[^\\n]+\\n[^\\n]+)(\\nclasses)[^\\n]+/\\1=33\\2\\3=6/g' \\\r\n",
        "cfg/yolov3_training.cfg"
      ],
      "execution_count": null,
      "outputs": []
    },
    {
      "cell_type": "code",
      "metadata": {
        "id": "xq2Y1Ho6Hl6M"
      },
      "source": [
        "!printf \"UIT\\nHSV\\nCS\\nCE\\nSE\\nISE\" > data/obj.names\r\n",
        "!printf \"classes=6\\ntrain=/content/train.txt\\nvalid=/content/valid.txt\\nnames=data/obj.names\\nbackup=backup/\" > data/obj.data"
      ],
      "execution_count": null,
      "outputs": []
    },
    {
      "cell_type": "markdown",
      "metadata": {
        "id": "aRtDMG61QT5r"
      },
      "source": [
        "# Chuẩn bị dữ liệu\r\n",
        "\r\n"
      ]
    },
    {
      "cell_type": "markdown",
      "metadata": {
        "id": "AMZ8UdOsOS3H"
      },
      "source": [
        "## Tải và chuyển đổi định dạng dữ liệu"
      ]
    },
    {
      "cell_type": "markdown",
      "metadata": {
        "id": "L8kLwWQPTdZX"
      },
      "source": [
        "Sử dụng lệnh gdown để tải xuống dữ liệu mà Ban Tổ Chức cuộc thi cung cấp. Dữ liệu sẽ được tải về và giải nén vào thư mục /content/train."
      ]
    },
    {
      "cell_type": "code",
      "metadata": {
        "id": "3TjYn4OQQTQQ",
        "colab": {
          "base_uri": "https://localhost:8080/"
        },
        "outputId": "2052084f-cd6b-449e-96ba-ef759b53fa09"
      },
      "source": [
        "%cd /content\r\n",
        "!gdown --id 1onsbmBLR279EG1Sgx7YfQ8LsKgBoKDQn -O train.zip\r\n",
        "!unzip -j -qq train.zip -d train"
      ],
      "execution_count": null,
      "outputs": [
        {
          "output_type": "stream",
          "text": [
            "/content\n",
            "Downloading...\n",
            "From: https://drive.google.com/uc?id=1onsbmBLR279EG1Sgx7YfQ8LsKgBoKDQn\n",
            "To: /content/train.zip\n",
            "1.89GB [00:14, 130MB/s] \n"
          ],
          "name": "stdout"
        }
      ]
    },
    {
      "cell_type": "markdown",
      "metadata": {
        "id": "p6tYtAxniR1a"
      },
      "source": [
        "Chúng ta cần chuyển định dạng dữ liệu của BTC về đúng định dạng yêu cầu của phương pháp chúng ta chọn, trong trường họp này là YOLOv3."
      ]
    },
    {
      "cell_type": "code",
      "metadata": {
        "id": "oAcmfOMijbZK"
      },
      "source": [
        "import os\r\n",
        "from PIL import Image\r\n",
        "\r\n",
        "DATASET_PATH = '/content/train/'\r\n",
        "# Đọc tất cả các tệp tin trong thư mục dữ liệu train\r\n",
        "images_list = os.listdir(DATASET_PATH)\r\n",
        "# Lọc bỏ những tệp tin có đuôi .txt (chỉ quan tâm file hình)\r\n",
        "images_list = [filename for filename in images_list if not filename[-4:] == '.txt']\r\n",
        "# Thêm đường dẫn /content/train/ vào trước tên tệp tin\r\n",
        "images_list = [os.path.join(DATASET_PATH, filename) for filename in images_list]\r\n",
        "\r\n",
        "for filename in images_list:\r\n",
        "    \r\n",
        "    # Đọc ảnh để lấy kích thước của ảnh\r\n",
        "    img = Image.open(filename)\r\n",
        "    width, height = img.size\r\n",
        "\r\n",
        "    # Tìm tệp tin chứa nhãn dữ liệu tương ứng với ảnh\r\n",
        "    annotation_file = os.path.splitext(filename)[0] + '.txt'\r\n",
        "\r\n",
        "    # Đọc tệp tin chứa nhãn dữ liệu và tách thành từng dòng\r\n",
        "    with open(annotation_file, 'r') as fi:\r\n",
        "        lines = fi.read().splitlines()\r\n",
        "\r\n",
        "    # Mở lại tệp tin nhãn để ghi đè\r\n",
        "    with open(annotation_file, 'w') as fo:\r\n",
        "        # Duyệt qua từng dòng trong tệp tin\r\n",
        "        for line in lines:\r\n",
        "            # Tách nội dung của từng dòng theo định dạng của BTC\r\n",
        "            line = line.strip().split()\r\n",
        "            # Chuyển đổi nội dung từ string sang int\r\n",
        "            line = [int(x) for x in line]\r\n",
        "\r\n",
        "            # Tiền xử lý: nếu các tọa độ ko nằm trong ảnh thì xóa logo đi (đây là nhiễu)\r\n",
        "            if line[1] <= 0 or  line[3] > width:\r\n",
        "                continue\r\n",
        "            if line[2] <= 0 or  line[4] > height:\r\n",
        "                continue\r\n",
        "\r\n",
        "            # Chuyển tọa độ xmin, ymin, xmax, ymax về tọa độ x_center, y_center, w, h\r\n",
        "            # Lưu ý: YOLOv3 yêu cầu chuẩn hóa các tọa độ về khoảng [0; 1].\r\n",
        "            line = [\r\n",
        "                line[0],\r\n",
        "                (line[3] + line[1])/2/width,    # x_center = (xmax + xmin)/2\r\n",
        "                (line[4] + line[2])/2/height,   # y_center = (ymax + ymin)/2\r\n",
        "                (line[3] - line[1])/width,      # w = (xmax - xmin)\r\n",
        "                (line[4] - line[2])/height,     # h = (ymax - ymin)\r\n",
        "            ]\r\n",
        "\r\n",
        "            # Tiền xử lý: nếu w hoặc h của logo bằng 0 thì bỏ qua logo này\r\n",
        "            if line[3] <= 0 or line[4] <= 0:\r\n",
        "                continue\r\n",
        "\r\n",
        "            # Tiền xử lý: nếu tỉ lệ giữa w và h lớn hơn 10 thì bỏ qua logo này\r\n",
        "            # (logo thường là hình vuông hoặc hình chữ nhật với tỉ lệ cân đối)\r\n",
        "            if line[3] / line[4] > 10 or line[4] / line[3] > 10:\r\n",
        "                continue\r\n",
        "\r\n",
        "            # Chuyển các tọa độ về kiểu string\r\n",
        "            line = [str(x) for x in line]\r\n",
        "            # Đưa về định dạng của YOLOv3\r\n",
        "            line = ' '.join(line) + '\\n'\r\n",
        "            # Ghi vào tệp tin output\r\n",
        "            fo.write(line)"
      ],
      "execution_count": null,
      "outputs": []
    },
    {
      "cell_type": "markdown",
      "metadata": {
        "id": "1yBHIPPJOZ6X"
      },
      "source": [
        "## Chia tập dữ liệu train và validation"
      ]
    },
    {
      "cell_type": "markdown",
      "metadata": {
        "id": "yR91XdYVp-_c"
      },
      "source": [
        "Tạo file train.txt và valid.txt chứa danh sách các file ảnh được dùng để train và validation cho YOLOv3. <br>\r\n",
        "<i>(Tập train và tập valid được chia theo tỉ lệ 8:2) </i>"
      ]
    },
    {
      "cell_type": "code",
      "metadata": {
        "id": "5I_0ht7ITMUu"
      },
      "source": [
        "import os\n",
        "import random\n",
        "random.seed(42)\n",
        "\n",
        "DATASET_PATH = '/content/train/'\n",
        "# Đọc tất cả các tệp tin trong thư mục dữ liệu train\n",
        "images_list = os.listdir(DATASET_PATH)\n",
        "# Lọc bỏ những tệp tin có đuôi .txt (chỉ quan tâm những file ảnh)\n",
        "images_list = [filename for filename in images_list if not filename[-4:] == '.txt']\n",
        "# Thêm đường dẫn /content/train/ vào trước tên tệp tin\n",
        "images_list = [os.path.join(DATASET_PATH, filename) for filename in images_list]\n",
        "\n",
        "# Chọn 80% ngẫu nhiên ra làm tập dữ liệu train\n",
        "train_list = random.sample(images_list, len(images_list)*8//10)\n",
        "# Phần còn lại chính là tập dữ liệu validation\n",
        "valid_list = list(set(images_list) - set(train_list))\n",
        "\n",
        "# Sắp xếp lại hai tập dữ liệu cho đẹp :)\n",
        "train_list.sort()\n",
        "valid_list.sort()\n",
        "\n",
        "# Cuối cùng chỉ cần xuất 2 tập dữ liệu ra 2 danh sách tương ứng\n",
        "f = open(\"train.txt\", \"w\")\n",
        "f.write(\"\\n\".join(train_list))\n",
        "f.close()\n",
        "\n",
        "f = open(\"valid.txt\", \"w\")\n",
        "f.write(\"\\n\".join(valid_list))\n",
        "f.close()"
      ],
      "execution_count": null,
      "outputs": []
    },
    {
      "cell_type": "markdown",
      "metadata": {
        "id": "CeSiuLrXoAjc"
      },
      "source": [
        "# Bắt đầu train!"
      ]
    },
    {
      "cell_type": "markdown",
      "metadata": {
        "id": "U0_ICkTsHP2K"
      },
      "source": [
        "Tải xuống bộ trọng số (weights) có sẵn của darknet53 và tiến hành train tiếp YOLOv3 trên bộ trọng số đó."
      ]
    },
    {
      "cell_type": "code",
      "metadata": {
        "id": "pXzzRPZIZIaN"
      },
      "source": [
        "%cd darknet\r\n",
        "!wget https://pjreddie.com/media/files/darknet53.conv.74"
      ],
      "execution_count": null,
      "outputs": []
    },
    {
      "cell_type": "markdown",
      "metadata": {
        "id": "Afo71ZOuHdAy"
      },
      "source": [
        "Bắt đầu train thôi nào ^_^ !"
      ]
    },
    {
      "cell_type": "code",
      "metadata": {
        "id": "S3_g3jclUzMm"
      },
      "source": [
        "!./darknet detector train data/obj.data cfg/yolov3_training.cfg darknet53.conv.74 -dont_show -map 2>/dev/null"
      ],
      "execution_count": null,
      "outputs": []
    },
    {
      "cell_type": "markdown",
      "metadata": {
        "id": "3_KlOWCzaSm_"
      },
      "source": [
        "# Predicting"
      ]
    },
    {
      "cell_type": "markdown",
      "metadata": {
        "id": "c3a-ZqcUbPPv"
      },
      "source": [
        "## Tải tập dữ liệu warm-up"
      ]
    },
    {
      "cell_type": "markdown",
      "metadata": {
        "id": "nxVB5utoawmS"
      },
      "source": [
        "Tương tự với tập dữ liệu train, ở đây chúng ta cũng sử dụng lệnh gdown để tải tập dữ liệu warmup của Ban Tổ Chức về."
      ]
    },
    {
      "cell_type": "code",
      "metadata": {
        "id": "mGGAsCE9bIfm"
      },
      "source": [
        "%cd /content\r\n",
        "!gdown --id 1Ng8UWSg2XNMWS49qhchTz24wSfE80cfA -O warmup.zip\r\n",
        "!unzip -j -qq warmup.zip -d warmup"
      ],
      "execution_count": null,
      "outputs": []
    },
    {
      "cell_type": "markdown",
      "metadata": {
        "id": "cWqoEZWxTOcA"
      },
      "source": [
        "Ở giai đoạn này cũng phải tạo ra một danh sách chứa các ảnh cần predict."
      ]
    },
    {
      "cell_type": "code",
      "metadata": {
        "id": "JNQNRt5XbKyy"
      },
      "source": [
        "import os\r\n",
        "import random\r\n",
        "random.seed(42)\r\n",
        "\r\n",
        "WARMUP_PATH = '/content/warmup/'\r\n",
        "# Đọc tất cả các tệp tin trong thư mục dữ liệu warmup\r\n",
        "images_list = os.listdir(WARMUP_PATH)\r\n",
        "# Lọc bỏ những tệp tin có đuôi .txt (chỉ quan tâm những file ảnh)\r\n",
        "images_list = [filename for filename in images_list if not filename[-4:] == '.txt']\r\n",
        "# Thêm đường dẫn /content/warmup/ vào trước tên tệp tin\r\n",
        "images_list = [os.path.join(WARMUP_PATH, filename) for filename in images_list]\r\n",
        "\r\n",
        "# Sắp xếp lại danh sách\r\n",
        "images_list.sort()\r\n",
        "\r\n",
        "# Cuối cùng là xuất danh sách này ra tệp tin txt\r\n",
        "f = open(\"warmup.txt\", \"w\")\r\n",
        "f.write(\"\\n\".join(images_list))\r\n",
        "f.close()"
      ],
      "execution_count": null,
      "outputs": []
    },
    {
      "cell_type": "markdown",
      "metadata": {
        "id": "XewM8TJPLW8i"
      },
      "source": [
        "## Bắt đầu predict!"
      ]
    },
    {
      "cell_type": "code",
      "metadata": {
        "id": "OimFRhykc2AN"
      },
      "source": [
        "%cd /content/darknet"
      ],
      "execution_count": null,
      "outputs": []
    },
    {
      "cell_type": "code",
      "metadata": {
        "id": "UYQkmNzZaUDV"
      },
      "source": [
        "!./darknet detector test data/obj.data cfg/yolov3_training.cfg backup/yolov3_training_best.weights -thresh 0.25 -dont_show -save_labels < /content/warmup.txt"
      ],
      "execution_count": null,
      "outputs": []
    },
    {
      "cell_type": "markdown",
      "metadata": {
        "id": "umJrfE9vfkQF"
      },
      "source": [
        "# Nộp bài"
      ]
    },
    {
      "cell_type": "code",
      "metadata": {
        "id": "8pVlzfr6feCJ"
      },
      "source": [
        "%cd /content"
      ],
      "execution_count": null,
      "outputs": []
    },
    {
      "cell_type": "code",
      "metadata": {
        "id": "6rrLinapfpA9"
      },
      "source": [
        "import os\r\n",
        "from PIL import Image\r\n",
        "\r\n",
        "WARMUP_PATH = '/content/warmup/'\r\n",
        "# Đọc tất cả các tệp tin trong thư mục dữ liệu train\r\n",
        "images_list = os.listdir(WARMUP_PATH)\r\n",
        "# Lọc bỏ những tệp tin có đuôi .txt (chỉ quan tâm file hình)\r\n",
        "images_list = [filename for filename in images_list if not filename[-4:] == '.txt']\r\n",
        "\r\n",
        "submission_file = 'submission.txt'\r\n",
        "\r\n",
        "with open(submission_file, 'w') as fo:\r\n",
        "    for filename in images_list:\r\n",
        "        \r\n",
        "        # Thêm đường dẫn /content/warmup/ vào trước tên tệp tin\r\n",
        "        file_path = os.path.join(WARMUP_PATH, filename)\r\n",
        "\r\n",
        "        # Đọc ảnh để lấy kích thước của ảnh\r\n",
        "        img = Image.open(file_path)\r\n",
        "        width, height = img.size\r\n",
        "\r\n",
        "        # Tìm tệp tin chứa nhãn dữ liệu mô hình dự đoán tương ứng với ảnh\r\n",
        "        annotation_file = os.path.splitext(file_path)[0] + '.txt'\r\n",
        "\r\n",
        "        # Đọc tệp tin chứa nhãn dữ liệu mô hình dự đoán và tách thành từng dòng\r\n",
        "        with open(annotation_file, 'r') as fi:\r\n",
        "            lines = fi.read().splitlines()\r\n",
        "\r\n",
        "        # Duyệt qua từng dòng trong tệp tin\r\n",
        "        for line in lines:\r\n",
        "            # Tách nội dung của từng dòng ra thành các tọa độ\r\n",
        "            line = line.strip().split()\r\n",
        "            # Chuyển đổi nội dung từ string sang float\r\n",
        "            line = [float(x) for x in line]\r\n",
        "            # Chuyển định dạng class x_center y_center w h về định dạng submission.\r\n",
        "            line = [\r\n",
        "                filename,\r\n",
        "                int(line[0]),\r\n",
        "                int((line[1] - line[3]/2) * width),    # x_min = x_center - w/2\r\n",
        "                int((line[2] - line[4]/2) * height),   # y_min = y_center - h/2\r\n",
        "                int((line[1] + line[3]/2) * width),    # x_max = x_center + w/2\r\n",
        "                int((line[2] + line[4]/2) * height),   # y_max = y_center + h/2\r\n",
        "            ]\r\n",
        "            # Chuyển các tọa độ về kiểu string\r\n",
        "            line = [str(x) for x in line]\r\n",
        "            # Đưa về định dạng submission của BTC (cách nhau bởi dấu phẩy)\r\n",
        "            line = ', '.join(line) + '\\n'\r\n",
        "            # Ghi vào tệp tin output\r\n",
        "            fo.write(line)"
      ],
      "execution_count": null,
      "outputs": []
    },
    {
      "cell_type": "markdown",
      "metadata": {
        "id": "IugMg0xX2XUS"
      },
      "source": [
        "Sau khi các công đoạn hậu xử lý và tạo tệp tin submission.txt hoàn tất, chúng ta có thể tiến hành nộp bài lên hệ thống cuộc thi bằng đoạn mã ngắn dưới đây:"
      ]
    },
    {
      "cell_type": "code",
      "metadata": {
        "id": "VB2mAlKvengm"
      },
      "source": [
        "import math, requests\r\n",
        "\r\n",
        "def submit_prediction(df, comment='', **kwargs):\r\n",
        "    # Token các bạn lấy từ trang submission của cuộc thi và dán vào dòng bên dưới\r\n",
        "    TOKEN='' \r\n",
        "    URL='http://submission.mmlab.uit.edu.vn/api/submissions'\r\n",
        "    r = requests.post(URL, headers={'Authorization': 'Bearer {}'.format(TOKEN)},files={'datafile': open(df, 'rb')},data={'comment':comment})\r\n",
        "    if r.status_code == 429:\r\n",
        "        raise Exception('Submissions are too close. Next submission is only allowed in {} seconds.'.format(int(math.ceil(int(r.headers['x-rate-limit-remaining']) / 1000.0))))\r\n",
        "    if r.status_code != 200:\r\n",
        "        raise Exception(r.text)\r\n",
        "        \r\n",
        "submit_prediction('submission.txt', comment='Submitted from Baseline Colab Notebook.')"
      ],
      "execution_count": null,
      "outputs": []
    }
  ]
}